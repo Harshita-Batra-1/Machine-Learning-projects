{
  "nbformat": 4,
  "nbformat_minor": 0,
  "metadata": {
    "colab": {
      "provenance": []
    },
    "kernelspec": {
      "name": "python3",
      "display_name": "Python 3"
    },
    "language_info": {
      "name": "python"
    }
  },
  "cells": [
    {
      "cell_type": "code",
      "execution_count": null,
      "metadata": {
        "colab": {
          "base_uri": "https://localhost:8080/"
        },
        "id": "o0e2h2pKGpLA",
        "outputId": "9bcba00b-c3ed-44f5-9079-381171528e1f"
      },
      "outputs": [
        {
          "output_type": "stream",
          "name": "stdout",
          "text": [
            "Found 800 validated image filenames belonging to 2 classes.\n",
            "Found 200 validated image filenames belonging to 2 classes.\n",
            "2/2 [==============================] - 178s 92s/step - loss: 0.7511 - accuracy: 0.4925 - val_loss: 0.6915 - val_accuracy: 0.4500\n",
            "1/1 [==============================] - 7s 7s/step - loss: 0.6915 - accuracy: 0.4500\n"
          ]
        },
        {
          "output_type": "execute_result",
          "data": {
            "text/plain": [
              "[0.6914700865745544, 0.44999998807907104]"
            ]
          },
          "metadata": {},
          "execution_count": 1
        }
      ],
      "source": [
        "import pandas as pd \n",
        "import numpy as np \n",
        "import matplotlib.pyplot as plt \n",
        "import warnings \n",
        "import os \n",
        "import tqdm \n",
        "import random \n",
        "from keras.preprocessing.image import load_img\n",
        "input_path = []  #creating 2 lists                                               \n",
        "label = []   \n",
        "for class_name in os.listdir(\"/content/drive/MyDrive/Tree-noTree\"):  #iterating directories                  \n",
        "                             #class_name variable contains 2 values tree & no tree          \n",
        "    for path in os.listdir(\"/content/drive/MyDrive/Tree-noTree/\"+class_name): #iterarte each folder             \n",
        "                                                                                \n",
        "        if class_name == 'tree-1':\n",
        "            label.append(1)\n",
        "        else: \n",
        "            label.append(0)\n",
        "        input_path.append(os.path.join(\"/content/drive/MyDrive/Tree-noTree\", class_name, path))\n",
        "df = pd.DataFrame()\n",
        "df['images'] = input_path\n",
        "df['label'] = label  \n",
        "#shuffle data \n",
        "df = df.sample(frac=1).reset_index(drop=True)  \n",
        "df['label'] = df['label'].astype('str')\n",
        "from sklearn.model_selection import train_test_split  \n",
        "train, test = train_test_split(df, test_size=0.2, random_state=42)  \n",
        "from keras.preprocessing.image import ImageDataGenerator                                                                    \n",
        "train_generator = ImageDataGenerator(                                                                                       \n",
        "    rescale = 1.0/255,  # normalization of images                                                                              \n",
        "    rotation_range = 40, # augmention of images to avoid overfitting                                                                             \n",
        "    shear_range = 0.2, \n",
        "    zoom_range = 0.2,\n",
        "    horizontal_flip = True, \n",
        "    fill_mode = 'nearest'\n",
        ") \n",
        "val_generator = ImageDataGenerator(rescale = 1.0/255) #for test data\n",
        "train_iterator = train_generator.flow_from_dataframe(\n",
        "    train, \n",
        "    x_col='images', \n",
        "    y_col='label', \n",
        "    target_size=(128,128), \n",
        "    batch_size=512, \n",
        "    class_mode='binary'\n",
        ")\n",
        "val_iterator = val_generator.flow_from_dataframe( \n",
        "    test, \n",
        "    x_col='images', \n",
        "    y_col='label', \n",
        "    target_size=(128,128), \n",
        "    batch_size=512, \n",
        "    class_mode='binary'\n",
        ")\n",
        "from keras import Sequential \n",
        "from keras.layers import Conv2D, MaxPool2D, Flatten, Dense \n",
        "\n",
        "model = Sequential([  #arrange  layers in sequencial manner\n",
        "                    Conv2D(16, (3,3), activation='relu', input_shape=(128,128,3)), #here 16 are (hidden units) no of kernels/featureDetector/Filter\n",
        "                                                        #3X3 is kernel size->filterMap//Resolution of image(128,128)*rbg(3)\n",
        "                    MaxPool2D((2,2)),\n",
        "                    Conv2D(32, (3,3), activation='relu'),  #for another layer\n",
        "                    MaxPool2D((2,2)),\n",
        "                    Conv2D(64, (3,3), activation='relu'),\n",
        "                    MaxPool2D((2,2)),\n",
        "                    Flatten(),\n",
        "                    Dense(512, activation='relu'),   #512 is no. of nuerons\n",
        "                    Dense(1, activation='sigmoid')\n",
        "])\n",
        "model.compile(optimizer='adam', loss='binary_crossentropy', metrics=['accuracy'])\n",
        "history = model.fit(train_iterator, epochs=1, validation_data=val_iterator) \n",
        "model.evaluate(val_iterator) "
      ]
    },
    {
      "cell_type": "code",
      "source": [
        "import PIL \n",
        "red_image = PIL.Image.open(\"/content/drive/MyDrive/Tree-noTree/no-tree-0/FJI_AC_1004.png\")\n",
        "red_image_rgb = red_image.convert(\"RGB\")\n",
        "rgb_pixel_value = red_image_rgb.getpixel((10,15))\n",
        "print(rgb_pixel_value)"
      ],
      "metadata": {
        "colab": {
          "base_uri": "https://localhost:8080/"
        },
        "id": "B4BgKKImhY_z",
        "outputId": "36e85e28-38d0-4c4b-dc55-72f62d1fd336"
      },
      "execution_count": null,
      "outputs": [
        {
          "output_type": "stream",
          "name": "stdout",
          "text": [
            "(0, 0, 0)\n"
          ]
        }
      ]
    },
    {
      "cell_type": "code",
      "source": [
        "!mkdir -p saved_model\n",
        "model.save('saved_model/my_model')\n",
        "model.save_weights('try.h5')"
      ],
      "metadata": {
        "id": "ozXyEIx5jniw"
      },
      "execution_count": null,
      "outputs": []
    },
    {
      "cell_type": "code",
      "source": [
        "from keras.preprocessing import image\n",
        "img_pred=image.load_img('/content/drive/MyDrive/Tree-noTree/tree-1/FJI_AP_102.png',target_size=(128,128))\n",
        "img_pred=image.img_to_array(img_pred)\n",
        "img_pred=np.expand_dims(img_pred,axis=0)\n",
        "\n",
        "result = model.predict(img_pred)\n",
        "print (result)\n",
        "if abs(result)==1: \n",
        "    print(\"tree\") \n",
        "else:\n",
        "    print(\"no tree\")"
      ],
      "metadata": {
        "colab": {
          "base_uri": "https://localhost:8080/"
        },
        "id": "BxKQekJzlh7Z",
        "outputId": "05be15f9-c18b-4b59-8ba3-40845ae8511e"
      },
      "execution_count": null,
      "outputs": [
        {
          "output_type": "stream",
          "name": "stdout",
          "text": [
            "[[1.]]\n",
            "tree\n"
          ]
        }
      ]
    },
    {
      "cell_type": "code",
      "source": [
        "# another method to write\n",
        "from keras.applications.inception_v3 import InceptionV3, preprocess_input\n",
        "from keras.preprocessing.image import ImageDataGenerator, load_img, img_to_array\n",
        "def prediction(path):\n",
        "  img=load_img(path,target_size=(224,224)) # load image\n",
        "  i=img_to_array(img) # convert image to array \n",
        "  i=preprocess_input(i) \n",
        "  input_arr=np.array([i]) # increase dimensions\n",
        "  print(input_arr.shape)  \n",
        "  pred=np.argmax(model.predict(input_arr))\n",
        "  if pred==0:\n",
        "    print(\"The image is not of a Tree\")\n",
        "  else:\n",
        "    print(\"The image is of a Tree\") \n",
        "  plt.imshow(input_arr[0])\n",
        "  plt.title(\"input image\")\n",
        "  plt.axis=False\n",
        "  plt.show()\n",
        "  print(pred)"
      ],
      "metadata": {
        "id": "lQ9fNGkBPWzO"
      },
      "execution_count": null,
      "outputs": []
    },
    {
      "cell_type": "code",
      "source": [
        "# iterate in folder to find images\n",
        "from os import listdir\n",
        "from os .path import isfile, join\n",
        "from keras.preprocessing.image import load_img\n",
        "pred_dir_path = 'link'\n",
        "onlyfiles = [f for f in listdir(pred_dir_path) if isfile(join(pred_dir_path))]\n",
        "print(onlyfiles) "
      ],
      "metadata": {
        "id": "agkTAdOirw1S"
      },
      "execution_count": null,
      "outputs": []
    },
    {
      "cell_type": "code",
      "source": [
        "from keras.preprocessing import image\n",
        "tree_counter=0\n",
        "no_tree_counter=0\n",
        "for files in onlyfiles: # files jo upr vale se output aega \n",
        "  img = image.load_img(pred_dir_path+file, target_size=(128,128))\n",
        "  img = image.img_to_array(img)\n",
        "\n",
        "# ... same as above"
      ],
      "metadata": {
        "id": "FHtR42PVsPyO"
      },
      "execution_count": null,
      "outputs": []
    },
    {
      "cell_type": "markdown",
      "source": [
        ".\n",
        "\n",
        "\n",
        "\n",
        "\n",
        "\n",
        "\n",
        "\n",
        "\n",
        "\n",
        "\n",
        "\n",
        "\n",
        "\n",
        "\n",
        "\n",
        "\n",
        "\n",
        "\n",
        "\n",
        "DONE\n",
        "\n",
        "\n",
        "\n",
        "\n",
        "\n",
        "\n",
        "\n",
        "\n",
        "\n",
        "\n",
        "\n",
        "\n",
        "\n",
        "\n",
        "\n",
        "\n",
        "\n",
        "\n",
        "\n",
        "."
      ],
      "metadata": {
        "id": "QObKsah7jjp8"
      }
    },
    {
      "cell_type": "markdown",
      "source": [
        "\"\"\"\n",
        "Script for predicting label as\n",
        "good or bad given the image\n",
        "It preprocess the image same as it \n",
        "was pre-processed in training \n",
        "\"\"\"\n",
        "import argparse\n",
        "from sklearn.externals import joblib\n",
        "import numpy as np\n",
        "import scipy.misc as ms\n",
        "import scipy.ndimage as nd\n",
        "from utils import (resize, validate, path_validation)\n",
        "from config import (MODEL_PATH, WIDTH, HEIGHT,\n",
        "                    RADIUS)\n",
        "\n",
        "def predict_preprocess(IMAGE_PATH):\n",
        "    \"\"\"\n",
        "    Preprocess the image given path of the image/images\n",
        "    to apply median filter and resizing the image\n",
        "    same as done in training the network\n",
        "    @ Parameters:\n",
        "    -------------\n",
        "    IMAGE_PATH: str\n",
        "        Path of the images\n",
        "    @ Returns:\n",
        "    ----------\n",
        "    img: np.array\n",
        "        filtered and pre-processed combined\n",
        "        images arrays \n",
        "    \n",
        "    \"\"\"\n",
        "    # Reading images in grayscale mode\n",
        "    img = ms.imread(IMAGE_PATH, mode='L')\n",
        "    # APllying median filter to remove noise\n",
        "    img = nd.median_filter(img, RADIUS)\n",
        "    # To make it 2D\n",
        "    img = img[np.newaxis, :]\n",
        "    # Resizing the images to that of train\n",
        "    img = resize(img, width=WIDTH, height=HEIGHT)\n",
        "    # Addition of bias term\n",
        "    img = np.insert(img, 0, 1, axis=1)\n",
        "\n",
        "    return img\n",
        "\n",
        "\n",
        "def main():\n",
        "    \"\"\"\n",
        "    Parse the argument and check validaton\n",
        "    of passed image and trained model path\n",
        "    Predict the label of images passed after \n",
        "    pre-process the images same as done in \n",
        "    training part\n",
        "    \n",
        "    \"\"\"\n",
        "    # Construct the argument parser and parse the arguments\n",
        "    ap = argparse.ArgumentParser()\n",
        "    ap.add_argument(\"-img\", \"--image_path\", required=True, \n",
        "                        help=\"path to image\")\n",
        "    args = vars(ap.parse_args())\n",
        "\n",
        "    IMAGE_PATH = args[\"image_path\"]\n",
        "\n",
        "    # Path Validation of image and Model\n",
        "    if not path_validation(IMAGE_PATH, read_access=True):\n",
        "        exit(0)\n",
        "    if not path_validation(MODEL_PATH, read_access=True):\n",
        "        exit(0)\n",
        "\n",
        "    # Preprocessed the images\n",
        "    img = predict_preprocess(IMAGE_PATH)\n",
        "\n",
        "    # Load the trained NN model\n",
        "    params = joblib.load(MODEL_PATH)\n",
        "\n",
        "    # Find the label predicted by the model\n",
        "    predicted_label = validate(params, img)\n",
        "\n",
        "    for label in predicted_label:\n",
        "        if label:\n",
        "            print(\"Good Image\\n\")\n",
        "        else:\n",
        "            print(\"Bad Image\\n\")\n",
        "\n",
        "\n",
        "if __name__ == \"__main__\":\n",
        "    main()"
      ],
      "metadata": {
        "id": "KBeUyfC_jeyZ"
      }
    }
  ]
}
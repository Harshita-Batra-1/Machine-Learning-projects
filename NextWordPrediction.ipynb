{
  "nbformat": 4,
  "nbformat_minor": 0,
  "metadata": {
    "colab": {
      "provenance": []
    },
    "kernelspec": {
      "name": "python3",
      "display_name": "Python 3"
    },
    "language_info": {
      "name": "python"
    }
  },
  "cells": [
    {
      "cell_type": "code",
      "source": [
        "import tensorflow as tf\n",
        "import numpy as np\n",
        "import pickle\n",
        "import os \n",
        "from tensorflow.keras.preprocessing.text import Tokenizer\n",
        "from tensorflow.keras.layers import Embedding, LSTM, Dense\n",
        "from tensorflow.keras.models import Sequential\n",
        "from tensorflow.keras.utils import to_categorical\n",
        "from tensorflow.keras.optimizers import Adam"
      ],
      "metadata": {
        "id": "ppnp8l-QSryO"
      },
      "execution_count": 1,
      "outputs": []
    },
    {
      "cell_type": "code",
      "source": [
        "file = open('text.txt','r',encoding='utf8')"
      ],
      "metadata": {
        "id": "jV7jfJ0pYHa0"
      },
      "execution_count": 2,
      "outputs": []
    },
    {
      "cell_type": "code",
      "source": [
        "#Store file in list \n",
        "lines = []\n",
        "for i in file:\n",
        "  lines.append(i)"
      ],
      "metadata": {
        "id": "KUV7hUB8YT4u"
      },
      "execution_count": 3,
      "outputs": []
    },
    {
      "cell_type": "code",
      "source": [
        "#Convert list to string\n",
        "data = \"\"\n",
        "for i in lines:\n",
        "  data=\" \".join(lines)"
      ],
      "metadata": {
        "id": "NVqKuLR6YmLc"
      },
      "execution_count": 4,
      "outputs": []
    },
    {
      "cell_type": "code",
      "source": [
        "#Replace unnecessary stuff with space\n",
        "data = data.replace('\\n', '').replace('\\r', '').replace('\\ufeff', '').replace('\"', '').replace(',', '')"
      ],
      "metadata": {
        "id": "yoCuzHFAZebu"
      },
      "execution_count": 5,
      "outputs": []
    },
    {
      "cell_type": "code",
      "source": [
        "#Remove unnecessary spaces\n",
        "data = data.split() \n",
        "data = ' '.join(data)\n",
        "data[:500]"
      ],
      "metadata": {
        "colab": {
          "base_uri": "https://localhost:8080/",
          "height": 70
        },
        "id": "5QAiAKbQaAiB",
        "outputId": "f298565e-9015-49d9-abb3-34b04e661b17"
      },
      "execution_count": 6,
      "outputs": [
        {
          "output_type": "execute_result",
          "data": {
            "text/plain": [
              "'The Project Gutenberg eBook of The Adventures of Sherlock Holmes by Arthur Conan Doyle This eBook is for the use of anyone anywhere in the United States and most other parts of the world at no cost and with almost no restrictions whatsoever. You may copy it give it away or re-use it under the terms of the Project Gutenberg License included with this eBook or online at www.gutenberg.org. If you are not located in the United States you will have to check the laws of the country where you are locat'"
            ],
            "application/vnd.google.colaboratory.intrinsic+json": {
              "type": "string"
            }
          },
          "metadata": {},
          "execution_count": 6
        }
      ]
    },
    {
      "cell_type": "code",
      "source": [
        "len(data)"
      ],
      "metadata": {
        "colab": {
          "base_uri": "https://localhost:8080/"
        },
        "id": "WG5kZhxbaSY7",
        "outputId": "1c67169f-e840-4576-8b1d-c7663d47b58c"
      },
      "execution_count": 7,
      "outputs": [
        {
          "output_type": "execute_result",
          "data": {
            "text/plain": [
              "570593"
            ]
          },
          "metadata": {},
          "execution_count": 7
        }
      ]
    },
    {
      "cell_type": "code",
      "source": [
        "#Apply tokenizer\n",
        "tokenizer = Tokenizer()\n",
        "tokenizer.fit_on_texts([data])\n",
        "\n",
        "#Saving tokenizer for predict funct\n",
        "pickle.dump(tokenizer, open('token.pkl','wb'))"
      ],
      "metadata": {
        "id": "ntoOGeBkbPKt"
      },
      "execution_count": 8,
      "outputs": []
    },
    {
      "cell_type": "code",
      "source": [
        "#converts text/string to numeric representation\n",
        "seq_data = tokenizer.texts_to_sequences([data])[0] \n",
        "seq_data[:10]"
      ],
      "metadata": {
        "colab": {
          "base_uri": "https://localhost:8080/"
        },
        "id": "FxLHKBlladfo",
        "outputId": "6194e81b-7068-4a47-caf8-d275c470c699"
      },
      "execution_count": 9,
      "outputs": [
        {
          "output_type": "execute_result",
          "data": {
            "text/plain": [
              "[1, 144, 129, 875, 4, 1, 1086, 4, 127, 35]"
            ]
          },
          "metadata": {},
          "execution_count": 9
        }
      ]
    },
    {
      "cell_type": "code",
      "source": [
        "len(seq_data) #This length is less than actual because many words are repeated \n",
        "# & each unique word gets 1 numeric representation also it filters any punctuation & white space"
      ],
      "metadata": {
        "colab": {
          "base_uri": "https://localhost:8080/"
        },
        "id": "6WkUTHe1bL1y",
        "outputId": "56c6e26c-6997-4202-bef4-cde8503e82cd"
      },
      "execution_count": 10,
      "outputs": [
        {
          "output_type": "execute_result",
          "data": {
            "text/plain": [
              "110612"
            ]
          },
          "metadata": {},
          "execution_count": 10
        }
      ]
    },
    {
      "cell_type": "code",
      "source": [
        "# word_index+1 bcz index 0 reserved for padding \n",
        "vocab_size = len(tokenizer.word_index) + 1 \n",
        "print(vocab_size) #these much unique words in our text"
      ],
      "metadata": {
        "colab": {
          "base_uri": "https://localhost:8080/"
        },
        "id": "k-D56LzLbf1F",
        "outputId": "de61bf02-e149-4dd5-8923-18c65c84d176"
      },
      "execution_count": 11,
      "outputs": [
        {
          "output_type": "stream",
          "name": "stdout",
          "text": [
            "9280\n"
          ]
        }
      ]
    },
    {
      "cell_type": "code",
      "source": [
        "seq = []\n",
        "for i in range(3, len(seq_data)):\n",
        "  words = seq_data[i-3:i+1]\n",
        "  seq.append(words)\n",
        "\n",
        "print(\"The length of Sequences are: \",len(seq))\n",
        "seq = np.array(seq)\n",
        "seq[:10]"
      ],
      "metadata": {
        "colab": {
          "base_uri": "https://localhost:8080/"
        },
        "id": "4U5UBj9Vckwr",
        "outputId": "e3daaf14-5180-4d6a-b8f8-235e5aeaf70f"
      },
      "execution_count": 12,
      "outputs": [
        {
          "output_type": "stream",
          "name": "stdout",
          "text": [
            "The length of Sequences are:  110609\n"
          ]
        },
        {
          "output_type": "execute_result",
          "data": {
            "text/plain": [
              "array([[   1,  144,  129,  875],\n",
              "       [ 144,  129,  875,    4],\n",
              "       [ 129,  875,    4,    1],\n",
              "       [ 875,    4,    1, 1086],\n",
              "       [   4,    1, 1086,    4],\n",
              "       [   1, 1086,    4,  127],\n",
              "       [1086,    4,  127,   35],\n",
              "       [   4,  127,   35,   44],\n",
              "       [ 127,   35,   44,  643],\n",
              "       [  35,   44,  643, 2659]])"
            ]
          },
          "metadata": {},
          "execution_count": 12
        }
      ]
    },
    {
      "cell_type": "code",
      "source": [
        "X=[]\n",
        "Y=[]\n",
        "\n",
        "for i in seq:\n",
        "  X.append(i[0:3])\n",
        "  Y.append(i[3])\n",
        "\n",
        "X = np.array(X)\n",
        "Y = np.array(Y)"
      ],
      "metadata": {
        "id": "YiuZ0SLyd8OO"
      },
      "execution_count": 13,
      "outputs": []
    },
    {
      "cell_type": "code",
      "source": [
        "print(\"Data: \", X[:10])\n",
        "print(\"Response: \", Y[:10])"
      ],
      "metadata": {
        "colab": {
          "base_uri": "https://localhost:8080/"
        },
        "id": "dZd8RO9xfDey",
        "outputId": "24d5c034-90be-4428-9e34-7430a03a37e7"
      },
      "execution_count": 14,
      "outputs": [
        {
          "output_type": "stream",
          "name": "stdout",
          "text": [
            "Data:  [[   1  144  129]\n",
            " [ 144  129  875]\n",
            " [ 129  875    4]\n",
            " [ 875    4    1]\n",
            " [   4    1 1086]\n",
            " [   1 1086    4]\n",
            " [1086    4  127]\n",
            " [   4  127   35]\n",
            " [ 127   35   44]\n",
            " [  35   44  643]]\n",
            "Response:  [ 875    4    1 1086    4  127   35   44  643 2659]\n"
          ]
        }
      ]
    },
    {
      "cell_type": "code",
      "source": [
        "y = to_categorical(Y, num_classes= vocab_size)\n",
        "y[:5]"
      ],
      "metadata": {
        "colab": {
          "base_uri": "https://localhost:8080/"
        },
        "id": "_B3-VzAYgRgF",
        "outputId": "59a4cd8a-9c6c-4c61-fb49-f00172e3ba5a"
      },
      "execution_count": 15,
      "outputs": [
        {
          "output_type": "execute_result",
          "data": {
            "text/plain": [
              "array([[0., 0., 0., ..., 0., 0., 0.],\n",
              "       [0., 0., 0., ..., 0., 0., 0.],\n",
              "       [0., 1., 0., ..., 0., 0., 0.],\n",
              "       [0., 0., 0., ..., 0., 0., 0.],\n",
              "       [0., 0., 0., ..., 0., 0., 0.]], dtype=float32)"
            ]
          },
          "metadata": {},
          "execution_count": 15
        }
      ]
    },
    {
      "cell_type": "code",
      "source": [
        "#Creating Model\n",
        "model= Sequential()\n",
        "model.add(Embedding(vocab_size,10,input_length=3)) #3 input arguments \n",
        "                                                   # - 1st input dimension which is size of vocabulary in my text data\n",
        "                                                   # - 2nd output dimension which is size of vector space in which words will be embedded\n",
        "                                                                                          #size of word vector for each word will be 10.\n",
        "                                                   # - 3rd : use 3 words to predict next word\n",
        "model.add(LSTM(1000, return_sequences=True))                   #1st parameter is no. of units i.e. dimensionality of the output space.\n",
        "                                                               # return_sequences = True indicates I am creating next LSTM layer\n",
        "model.add(LSTM(1000))\n",
        "model.add(Dense(1000, activation='relu'))                      # 1000 units- vocab_size - I want my output within this vocabulary\n",
        "                                                               # ReLU - converts negative value to 0 and keeps +ve as it is\n",
        "model.add(Dense(vocab_size, activation = 'softmax'))           # softmax - scales numbers into probabilities "
      ],
      "metadata": {
        "id": "IYiOU_pIgtSe"
      },
      "execution_count": 16,
      "outputs": []
    },
    {
      "cell_type": "code",
      "source": [
        "model.summary()"
      ],
      "metadata": {
        "colab": {
          "base_uri": "https://localhost:8080/"
        },
        "id": "s7wwU9JS_fAo",
        "outputId": "b3e9054b-a1d5-4bc6-846f-cc4b6a09ebc9"
      },
      "execution_count": 17,
      "outputs": [
        {
          "output_type": "stream",
          "name": "stdout",
          "text": [
            "Model: \"sequential\"\n",
            "_________________________________________________________________\n",
            " Layer (type)                Output Shape              Param #   \n",
            "=================================================================\n",
            " embedding (Embedding)       (None, 3, 10)             92800     \n",
            "                                                                 \n",
            " lstm (LSTM)                 (None, 3, 1000)           4044000   \n",
            "                                                                 \n",
            " lstm_1 (LSTM)               (None, 1000)              8004000   \n",
            "                                                                 \n",
            " dense (Dense)               (None, 1000)              1001000   \n",
            "                                                                 \n",
            " dense_1 (Dense)             (None, 9280)              9289280   \n",
            "                                                                 \n",
            "=================================================================\n",
            "Total params: 22,431,080\n",
            "Trainable params: 22,431,080\n",
            "Non-trainable params: 0\n",
            "_________________________________________________________________\n"
          ]
        }
      ]
    },
    {
      "cell_type": "code",
      "source": [
        "from tensorflow import keras\n",
        "from keras.utils.vis_utils import plot_model\n",
        "keras.utils.plot_model(model, to_file = 'plot.png', show_layer_names = True)"
      ],
      "metadata": {
        "colab": {
          "base_uri": "https://localhost:8080/",
          "height": 564
        },
        "id": "3M-_1rFUA25X",
        "outputId": "9adeb266-a415-46ca-8e1f-b61ffbb105b7"
      },
      "execution_count": 18,
      "outputs": [
        {
          "output_type": "execute_result",
          "data": {
            "image/png": "[encoded data removed]",
            "text/plain": [
              "<IPython.core.display.Image object>"
            ]
          },
          "metadata": {},
          "execution_count": 18
        }
      ]
    },
    {
      "cell_type": "code",
      "source": [
        "model.compile(loss=\"categorical_crossentropy\", optimizer=Adam(learning_rate= 0.001))\n",
        "# Loss function as categorical cross entropy which is used for multi-class classification task \n",
        "# i.e.we have several possible outputs of which my model has to choose one.\n",
        "# Adam optimizer to update the weights iteratively based on training "
      ],
      "metadata": {
        "id": "4xfsWr7cRRaP"
      },
      "execution_count": 19,
      "outputs": []
    },
    {
      "cell_type": "code",
      "source": [
        "from keras.callbacks import ModelCheckpoint,EarlyStopping \n",
        "mc=ModelCheckpoint(filepath=\"/content/saved_model/best_model.h5\", # best model & weights would go here\n",
        "                   monitor=\"loss\",\n",
        "                   verbose=1,                 #see' the training progress for each epoch only once=1 time\n",
        "                   save_best_only=True) \n",
        "model.fit(X, y, epochs=5,batch_size =1024,callbacks=[mc]) "
      ],
      "metadata": {
        "colab": {
          "base_uri": "https://localhost:8080/"
        },
        "id": "NvXKXeuE7teh",
        "outputId": "fdb1994b-3b0a-428f-f437-d6dcf7d6abe0"
      },
      "execution_count": 20,
      "outputs": [
        {
          "output_type": "stream",
          "name": "stdout",
          "text": [
            "Epoch 1/5\n",
            "109/109 [==============================] - ETA: 0s - loss: 7.0081\n",
            "Epoch 1: loss improved from inf to 7.00811, saving model to /content/saved_model/best_model.h5\n",
            "109/109 [==============================] - 582s 5s/step - loss: 7.0081\n",
            "Epoch 2/5\n",
            "109/109 [==============================] - ETA: 0s - loss: 6.6015\n",
            "Epoch 2: loss improved from 7.00811 to 6.60152, saving model to /content/saved_model/best_model.h5\n",
            "109/109 [==============================] - 562s 5s/step - loss: 6.6015\n",
            "Epoch 3/5\n",
            "109/109 [==============================] - ETA: 0s - loss: 6.5733\n",
            "Epoch 3: loss improved from 6.60152 to 6.57330, saving model to /content/saved_model/best_model.h5\n",
            "109/109 [==============================] - 560s 5s/step - loss: 6.5733\n",
            "Epoch 4/5\n",
            "109/109 [==============================] - ETA: 0s - loss: 6.4164\n",
            "Epoch 4: loss improved from 6.57330 to 6.41638, saving model to /content/saved_model/best_model.h5\n",
            "109/109 [==============================] - 562s 5s/step - loss: 6.4164\n",
            "Epoch 5/5\n",
            "109/109 [==============================] - ETA: 0s - loss: 6.1633\n",
            "Epoch 5: loss improved from 6.41638 to 6.16326, saving model to /content/saved_model/best_model.h5\n",
            "109/109 [==============================] - 560s 5s/step - loss: 6.1633\n"
          ]
        },
        {
          "output_type": "execute_result",
          "data": {
            "text/plain": [
              "<keras.callbacks.History at 0x7f83e6d87090>"
            ]
          },
          "metadata": {},
          "execution_count": 20
        }
      ]
    },
    {
      "cell_type": "code",
      "source": [
        "from keras.callbacks import ModelCheckpoint,EarlyStopping \n",
        "mc=ModelCheckpoint(filepath=\"/content/saved_model/best_model.h5\", # best model & weights would go here\n",
        "                   monitor=\"loss\",\n",
        "                   verbose=1,                 #see' the training progress for each epoch only once=1 time\n",
        "                   save_best_only=True) \n",
        "model.fit(X, y, epochs=15,batch_size =1024,callbacks=[mc]) "
      ],
      "metadata": {
        "colab": {
          "base_uri": "https://localhost:8080/"
        },
        "id": "uQQeMdGBRvL4",
        "outputId": "9496bd08-faba-4800-e5f6-26127794f746"
      },
      "execution_count": null,
      "outputs": [
        {
          "output_type": "stream",
          "name": "stdout",
          "text": [
            "Epoch 1/15\n",
            "109/109 [==============================] - ETA: 0s - loss: 4.6796\n",
            "Epoch 1: loss improved from inf to 4.67955, saving model to /content/saved_model/best_model.h5\n",
            "109/109 [==============================] - 580s 5s/step - loss: 4.6796\n",
            "Epoch 2/15\n",
            "109/109 [==============================] - ETA: 0s - loss: 4.4842\n",
            "Epoch 2: loss improved from 4.67955 to 4.48419, saving model to /content/saved_model/best_model.h5\n",
            "109/109 [==============================] - 575s 5s/step - loss: 4.4842\n",
            "Epoch 3/15\n",
            "109/109 [==============================] - ETA: 0s - loss: 4.2905\n",
            "Epoch 3: loss improved from 4.48419 to 4.29045, saving model to /content/saved_model/best_model.h5\n",
            "109/109 [==============================] - 573s 5s/step - loss: 4.2905\n",
            "Epoch 4/15\n",
            "109/109 [==============================] - ETA: 0s - loss: 4.0975\n",
            "Epoch 4: loss improved from 4.29045 to 4.09753, saving model to /content/saved_model/best_model.h5\n",
            "109/109 [==============================] - 583s 5s/step - loss: 4.0975\n",
            "Epoch 5/15\n",
            "109/109 [==============================] - ETA: 0s - loss: 3.9165\n",
            "Epoch 5: loss improved from 4.09753 to 3.91651, saving model to /content/saved_model/best_model.h5\n",
            "109/109 [==============================] - 590s 5s/step - loss: 3.9165\n",
            "Epoch 6/15\n",
            "109/109 [==============================] - ETA: 0s - loss: 3.7436\n",
            "Epoch 6: loss improved from 3.91651 to 3.74360, saving model to /content/saved_model/best_model.h5\n",
            "109/109 [==============================] - 572s 5s/step - loss: 3.7436\n",
            "Epoch 7/15\n",
            "109/109 [==============================] - ETA: 0s - loss: 3.5688\n",
            "Epoch 7: loss improved from 3.74360 to 3.56882, saving model to /content/saved_model/best_model.h5\n",
            "109/109 [==============================] - 572s 5s/step - loss: 3.5688\n",
            "Epoch 8/15\n",
            "109/109 [==============================] - ETA: 0s - loss: 3.4002\n",
            "Epoch 8: loss improved from 3.56882 to 3.40015, saving model to /content/saved_model/best_model.h5\n",
            "109/109 [==============================] - 585s 5s/step - loss: 3.4002\n",
            "Epoch 9/15\n",
            "109/109 [==============================] - ETA: 0s - loss: 3.2618\n",
            "Epoch 9: loss improved from 3.40015 to 3.26176, saving model to /content/saved_model/best_model.h5\n",
            "109/109 [==============================] - 585s 5s/step - loss: 3.2618\n",
            "Epoch 10/15\n",
            "109/109 [==============================] - ETA: 0s - loss: 3.1141\n",
            "Epoch 10: loss improved from 3.26176 to 3.11407, saving model to /content/saved_model/best_model.h5\n",
            "109/109 [==============================] - 584s 5s/step - loss: 3.1141\n",
            "Epoch 11/15\n",
            "109/109 [==============================] - ETA: 0s - loss: 2.9742\n",
            "Epoch 11: loss improved from 3.11407 to 2.97417, saving model to /content/saved_model/best_model.h5\n",
            "109/109 [==============================] - 578s 5s/step - loss: 2.9742\n",
            "Epoch 12/15\n",
            "109/109 [==============================] - ETA: 0s - loss: 2.8350\n",
            "Epoch 12: loss improved from 2.97417 to 2.83500, saving model to /content/saved_model/best_model.h5\n",
            "109/109 [==============================] - 586s 5s/step - loss: 2.8350\n",
            "Epoch 13/15\n",
            "109/109 [==============================] - ETA: 0s - loss: 2.7302\n",
            "Epoch 13: loss improved from 2.83500 to 2.73022, saving model to /content/saved_model/best_model.h5\n",
            "109/109 [==============================] - 588s 5s/step - loss: 2.7302\n",
            "Epoch 14/15\n",
            "109/109 [==============================] - ETA: 0s - loss: 2.6097\n",
            "Epoch 14: loss improved from 2.73022 to 2.60973, saving model to /content/saved_model/best_model.h5\n",
            "109/109 [==============================] - 602s 6s/step - loss: 2.6097\n",
            "Epoch 15/15\n",
            "109/109 [==============================] - ETA: 0s - loss: 2.5103\n",
            "Epoch 15: loss improved from 2.60973 to 2.51031, saving model to /content/saved_model/best_model.h5\n",
            "109/109 [==============================] - 591s 5s/step - loss: 2.5103\n"
          ]
        },
        {
          "output_type": "execute_result",
          "data": {
            "text/plain": [
              "<keras.callbacks.History at 0x7f877ddf7850>"
            ]
          },
          "metadata": {},
          "execution_count": 35
        }
      ]
    },
    {
      "cell_type": "code",
      "source": [
        "from keras.models import load_model\n",
        "model=load_model('/content/saved_model/best_model.h5') "
      ],
      "metadata": {
        "id": "mc4fTNKi8-_G"
      },
      "execution_count": 21,
      "outputs": []
    },
    {
      "cell_type": "code",
      "source": [
        "import pickle\n",
        "tokenizer = pickle.load(open('token.pkl','rb')) "
      ],
      "metadata": {
        "id": "V1ho8tN8pNxg"
      },
      "execution_count": 22,
      "outputs": []
    },
    {
      "cell_type": "code",
      "source": [
        "import numpy as np\n",
        "def predict(model, tokenizer, text):\n",
        "  seq = tokenizer.texts_to_sequences([text])\n",
        "  seq = np.array(seq)\n",
        "  preds = np.argmax(model.predict(seq))\n",
        "  pred_word = \"\"\n",
        "\n",
        "  for key, value in tokenizer.word_index.items():\n",
        "    if value == preds:\n",
        "      pred_word = key\n",
        "      break\n",
        "\n",
        "  print(pred_word)\n",
        "  return pred_word "
      ],
      "metadata": {
        "id": "LDv_a9lVqOWc"
      },
      "execution_count": 23,
      "outputs": []
    },
    {
      "cell_type": "code",
      "source": [
        "while(True):\n",
        "  text = input(\"Enter your line: \")\n",
        "\n",
        "  if text == '0':\n",
        "    print(\"Excetution completed....\")\n",
        "    break\n",
        "\n",
        "  else:\n",
        "      try:\n",
        "          text = text.split(\" \")\n",
        "          text = text[-3:]\n",
        "          print(text)\n",
        "\n",
        "          predict(model, tokenizer, text) \n",
        "\n",
        "      except Exception as e:\n",
        "        print(\"Error occured: \",e)\n",
        "        continue"
      ],
      "metadata": {
        "id": "HWaJY9Qe_Nta",
        "colab": {
          "base_uri": "https://localhost:8080/"
        },
        "outputId": "2cc0ea10-3e21-4834-9aae-1c9e4d36c67b"
      },
      "execution_count": 25,
      "outputs": [
        {
          "output_type": "stream",
          "name": "stdout",
          "text": [
            "Enter your line: the use of\n",
            "['the', 'use', 'of']\n",
            "the\n",
            "Enter your line: not located in\n",
            "['not', 'located', 'in']\n",
            "the\n",
            "Enter your line: The Adventures of\n",
            "['The', 'Adventures', 'of']\n",
            "the\n",
            "Enter your line: Author: Arthur Conan\n",
            "['Author:', 'Arthur', 'Conan']\n",
            "Error occured:  in user code:\n",
            "\n",
            "    File \"/usr/local/lib/python3.7/dist-packages/keras/engine/training.py\", line 1801, in predict_function  *\n",
            "        return step_function(self, iterator)\n",
            "    File \"/usr/local/lib/python3.7/dist-packages/keras/engine/training.py\", line 1790, in step_function  **\n",
            "        outputs = model.distribute_strategy.run(run_step, args=(data,))\n",
            "    File \"/usr/local/lib/python3.7/dist-packages/keras/engine/training.py\", line 1783, in run_step  **\n",
            "        outputs = model.predict_step(data)\n",
            "    File \"/usr/local/lib/python3.7/dist-packages/keras/engine/training.py\", line 1751, in predict_step\n",
            "        return self(x, training=False)\n",
            "    File \"/usr/local/lib/python3.7/dist-packages/keras/utils/traceback_utils.py\", line 67, in error_handler\n",
            "        raise e.with_traceback(filtered_tb) from None\n",
            "    File \"/usr/local/lib/python3.7/dist-packages/keras/engine/input_spec.py\", line 264, in assert_input_compatibility\n",
            "        raise ValueError(f'Input {input_index} of layer \"{layer_name}\" is '\n",
            "\n",
            "    ValueError: Input 0 of layer \"sequential\" is incompatible with the layer: expected shape=(None, 3), found shape=(None, 2)\n",
            "\n",
            "Enter your line: Author Arthur Conan\n",
            "['Author', 'Arthur', 'Conan']\n",
            "little\n",
            "Enter your line: Character set encoding\n",
            "['Character', 'set', 'encoding']\n",
            "the\n",
            "Enter your line: world has seen\n",
            "['world', 'has', 'seen']\n",
            "to\n",
            "Enter your line: throw a doubt\n",
            "['throw', 'a', 'doubt']\n",
            "of\n",
            "Enter your line: or a crack\n",
            "['or', 'a', 'crack']\n",
            "of\n",
            "Enter your line: dubious and questionable\n",
            "['dubious', 'and', 'questionable']\n",
            "the\n",
            "Enter your line: remained in our\n",
            "['remained', 'in', 'our']\n",
            "little\n",
            "Enter your line: I knew little\n",
            "['I', 'knew', 'little']\n",
            "the\n",
            "Enter your line: my way led\n",
            "['my', 'way', 'led']\n",
            "to\n",
            "Enter your line: always be associated\n",
            "['always', 'be', 'associated']\n",
            "to\n",
            "Enter your line: to the chamber\n",
            "['to', 'the', 'chamber']\n",
            "of\n",
            "Enter your line: I fail to\n",
            "['I', 'fail', 'to']\n",
            "the\n",
            "Enter your line: has secreted his\n",
            "['has', 'secreted', 'his']\n",
            "little\n",
            "Enter your line: of my trifling\n",
            "['of', 'my', 'trifling']\n",
            "and\n",
            "Enter your line: shown that you\n",
            "['shown', 'that', 'you']\n",
            "the\n",
            "Enter your line: man who wrote\n",
            "['man', 'who', 'wrote']\n",
            "to\n",
            "Enter your line: 0\n",
            "Excetution completed....\n"
          ]
        }
      ]
    }
  ]
}
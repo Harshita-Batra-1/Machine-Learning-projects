{
  "nbformat": 4,
  "nbformat_minor": 0,
  "metadata": {
    "colab": {
      "provenance": [],
      "collapsed_sections": [
        "rX8Hs8krzAiw"
      ]
    },
    "kernelspec": {
      "name": "python3",
      "display_name": "Python 3"
    },
    "language_info": {
      "name": "python"
    }
  },
  "cells": [
    {
      "cell_type": "code",
      "source": [
        "!pip install tensorflowjs               "
      ],
      "metadata": {
        "id": "lHzIagL6ho1u"
      },
      "execution_count": null,
      "outputs": []
    },
    {
      "cell_type": "code",
      "source": [
        "import tensorflowjs as tfjs             "
      ],
      "metadata": {
        "id": "iDrOEDd4tjL4"
      },
      "execution_count": null,
      "outputs": []
    },
    {
      "cell_type": "code",
      "source": [
        "import pathlib                            \n",
        "import matplotlib.pyplot as plt           \n",
        "from IPython.display import HTML         \n",
        "import tensorflow as tf                 "
      ],
      "metadata": {
        "id": "ORmfxnQntnD8"
      },
      "execution_count": null,
      "outputs": []
    },
    {
      "cell_type": "code",
      "source": [
        "import matplotlib.pyplot as plt                                \n",
        "import tensorflow as tf                         \n",
        "from tensorflow import keras                         \n",
        "from tensorflow.keras import models, layers         "
      ],
      "metadata": {
        "id": "twV7_9HxtpM9"
      },
      "execution_count": null,
      "outputs": []
    },
    {
      "cell_type": "code",
      "source": [
        "from keras.models import Sequential\n",
        "from keras.layers import Dense, Activation, Dropout, Flatten, MaxPooling2D\n",
        "from keras.layers.convolutional import Conv2D \n",
        "image_data_generator = tf.keras.preprocessing.image.ImageDataGenerator()"
      ],
      "metadata": {
        "id": "TQiOgCBgtrfK"
      },
      "execution_count": null,
      "outputs": []
    },
    {
      "cell_type": "code",
      "source": [
        "ds = tf.keras.preprocessing.image_dataset_from_directory(\n",
        "    pathlib.Path('/content/drive/MyDrive/Tree-noTree'),\n",
        "    seed=123,\n",
        "    shuffle=True,\n",
        ")"
      ],
      "metadata": {
        "colab": {
          "base_uri": "https://localhost:8080/"
        },
        "id": "TqSYSNgFu8GD",
        "outputId": "1ab8f839-bdaa-4d5b-898e-51933c95236f"
      },
      "execution_count": null,
      "outputs": [
        {
          "output_type": "stream",
          "name": "stdout",
          "text": [
            "Found 1000 files belonging to 2 classes.\n"
          ]
        }
      ]
    },
    {
      "cell_type": "code",
      "source": [
        "for image_batch, label_batch in ds.take(1):\n",
        "  print(image_batch.shape)\n",
        "  print(label_batch.numpy())\n",
        "  # dimensions  1920*1061"
      ],
      "metadata": {
        "colab": {
          "base_uri": "https://localhost:8080/"
        },
        "id": "14ledCjyu6jj",
        "outputId": "0a67ba79-10c8-4b19-bbb3-9dbf376e80c6"
      },
      "execution_count": null,
      "outputs": [
        {
          "output_type": "stream",
          "name": "stdout",
          "text": [
            "(32, 256, 256, 3)\n",
            "[0 1 0 0 0 0 1 1 1 0 0 1 1 1 1 1 0 0 0 0 1 0 1 0 1 0 1 1 1 1 1 1]\n"
          ]
        }
      ]
    },
    {
      "cell_type": "code",
      "source": [
        "cn = ds.class_names\n",
        "cn"
      ],
      "metadata": {
        "colab": {
          "base_uri": "https://localhost:8080/"
        },
        "id": "5DcZG0RbvDd1",
        "outputId": "42493edc-4ee9-4cdd-f085-d803751230fd"
      },
      "execution_count": null,
      "outputs": [
        {
          "output_type": "execute_result",
          "data": {
            "text/plain": [
              "['no tree-0', 'tree-1']"
            ]
          },
          "metadata": {},
          "execution_count": 21
        }
      ]
    },
    {
      "cell_type": "code",
      "source": [
        "len(ds)"
      ],
      "metadata": {
        "colab": {
          "base_uri": "https://localhost:8080/"
        },
        "id": "I566z2KZvFoZ",
        "outputId": "868024aa-b01e-4ede-bb0f-b5d6dc807ab3"
      },
      "execution_count": null,
      "outputs": [
        {
          "output_type": "execute_result",
          "data": {
            "text/plain": [
              "32"
            ]
          },
          "metadata": {},
          "execution_count": 10
        }
      ]
    },
    {
      "cell_type": "code",
      "source": [
        "train_size = 0.8\n",
        "len(ds)*train_size"
      ],
      "metadata": {
        "colab": {
          "base_uri": "https://localhost:8080/"
        },
        "id": "CB6nK86YvO_h",
        "outputId": "8a6dd99d-7ccc-4d07-cc04-235e9e258fb0"
      },
      "execution_count": null,
      "outputs": [
        {
          "output_type": "execute_result",
          "data": {
            "text/plain": [
              "25.6"
            ]
          },
          "metadata": {},
          "execution_count": 5
        }
      ]
    },
    {
      "cell_type": "code",
      "source": [
        "train_ds = ds.take(16)\n",
        "len(train_ds)\n"
      ],
      "metadata": {
        "colab": {
          "base_uri": "https://localhost:8080/"
        },
        "id": "Q4js3mDfvTCB",
        "outputId": "fceb773d-b0b5-4d40-eace-5479beccbaf4"
      },
      "execution_count": null,
      "outputs": [
        {
          "output_type": "execute_result",
          "data": {
            "text/plain": [
              "16"
            ]
          },
          "metadata": {},
          "execution_count": 6
        }
      ]
    },
    {
      "cell_type": "code",
      "source": [
        "test_ds = ds.skip(16) \n",
        "len(test_ds)"
      ],
      "metadata": {
        "colab": {
          "base_uri": "https://localhost:8080/"
        },
        "id": "8ajSBis7vV04",
        "outputId": "87dc6716-142a-457f-f9e0-499af4cd0618"
      },
      "execution_count": null,
      "outputs": [
        {
          "output_type": "execute_result",
          "data": {
            "text/plain": [
              "16"
            ]
          },
          "metadata": {},
          "execution_count": 7
        }
      ]
    },
    {
      "cell_type": "code",
      "source": [
        "val_size=0.1\n",
        "len(ds)*val_size"
      ],
      "metadata": {
        "colab": {
          "base_uri": "https://localhost:8080/"
        },
        "id": "eg6zMsbovYGa",
        "outputId": "456d87de-d4c9-43ed-dcdb-64a1aee91450"
      },
      "execution_count": null,
      "outputs": [
        {
          "output_type": "execute_result",
          "data": {
            "text/plain": [
              "3.2"
            ]
          },
          "metadata": {},
          "execution_count": 8
        }
      ]
    },
    {
      "cell_type": "code",
      "source": [
        "val_ds = test_ds.take(6)\n",
        "len(val_ds)"
      ],
      "metadata": {
        "colab": {
          "base_uri": "https://localhost:8080/"
        },
        "id": "xNSs7vyuvaZZ",
        "outputId": "77b14ac4-c834-4989-9534-97ce1b1d1cb5"
      },
      "execution_count": null,
      "outputs": [
        {
          "output_type": "execute_result",
          "data": {
            "text/plain": [
              "6"
            ]
          },
          "metadata": {},
          "execution_count": 9
        }
      ]
    },
    {
      "cell_type": "code",
      "source": [
        "test_ds = test_ds.skip(6)  \n",
        "len(test_ds)               "
      ],
      "metadata": {
        "colab": {
          "base_uri": "https://localhost:8080/"
        },
        "id": "sO08Rdiivcsd",
        "outputId": "17dbe5f0-050a-44e0-d36e-41c10f9c3273"
      },
      "execution_count": null,
      "outputs": [
        {
          "output_type": "execute_result",
          "data": {
            "text/plain": [
              "10"
            ]
          },
          "metadata": {},
          "execution_count": 10
        }
      ]
    },
    {
      "cell_type": "code",
      "source": [
        "train_ds = train_ds.cache().shuffle(1000).prefetch(buffer_size=tf.data.AUTOTUNE) \n",
        "val_ds = val_ds.cache().shuffle(1000).prefetch(buffer_size=tf.data.AUTOTUNE)     \n",
        "test_ds = test_ds.cache().shuffle(1000).prefetch(buffer_size=tf.data.AUTOTUNE)   "
      ],
      "metadata": {
        "id": "RwdTi-iFvfI_"
      },
      "execution_count": null,
      "outputs": []
    },
    {
      "cell_type": "code",
      "source": [
        "scaling = tf.keras.Sequential([\n",
        "  layers.experimental.preprocessing.Resizing(256,256),\n",
        "  layers.experimental.preprocessing.Rescaling(1.0/255), \n",
        "])"
      ],
      "metadata": {
        "id": "42mL2SxvvhCq"
      },
      "execution_count": null,
      "outputs": []
    },
    {
      "cell_type": "code",
      "source": [
        "aug = tf.keras.Sequential([\n",
        "  layers.experimental.preprocessing.RandomFlip(\"horizontal_and_vertical\"),\n",
        "  layers.experimental.preprocessing.RandomRotation(0.2), \n",
        "])"
      ],
      "metadata": {
        "id": "SYltyDxKvjPQ"
      },
      "execution_count": null,
      "outputs": []
    },
    {
      "cell_type": "code",
      "source": [
        "train_ds = train_ds.map(\n",
        "    lambda x, y: (aug(x, training=True), y) \n",
        ").prefetch(buffer_size=tf.data.AUTOTUNE)"
      ],
      "metadata": {
        "id": "mjIXk4pxvlhK"
      },
      "execution_count": null,
      "outputs": []
    },
    {
      "cell_type": "code",
      "source": [
        "input_shape = (32,256,256,3)\n",
        "model = models.Sequential([\n",
        "    scaling,\n",
        "    layers.Conv2D(32, kernel_size = (3,3), activation='relu', input_shape=input_shape),\n",
        "    layers.MaxPooling2D((2, 2)),\n",
        "    layers.Conv2D(64,  kernel_size = (3,3), activation='relu'),\n",
        "    layers.MaxPooling2D((2, 2)),\n",
        "    layers.Conv2D(64,  kernel_size = (3,3), activation='relu'),\n",
        "    layers.MaxPooling2D((2, 2)),\n",
        "    layers.Conv2D(64, (3, 3), activation='relu'),\n",
        "    layers.MaxPooling2D((2, 2)),\n",
        "    layers.Conv2D(64, (3, 3), activation='relu'),\n",
        "    layers.MaxPooling2D((2, 2)),\n",
        "    layers.Conv2D(64, (3, 3), activation='relu'),\n",
        "    layers.MaxPooling2D((2, 2)),\n",
        "    layers.Flatten(),\n",
        "    layers.Dense(64, activation='relu'),\n",
        "])"
      ],
      "metadata": {
        "id": "AT08ptS_mL-j"
      },
      "execution_count": null,
      "outputs": []
    },
    {
      "cell_type": "code",
      "source": [
        "model.build(input_shape=input_shape)"
      ],
      "metadata": {
        "id": "b4tEhM9qwaJH"
      },
      "execution_count": null,
      "outputs": []
    },
    {
      "cell_type": "code",
      "source": [
        "model.summary()"
      ],
      "metadata": {
        "colab": {
          "base_uri": "https://localhost:8080/"
        },
        "id": "z85e3qtdwQRE",
        "outputId": "0d10dea0-7d1b-4459-98f9-9bba505ccbef"
      },
      "execution_count": null,
      "outputs": [
        {
          "output_type": "stream",
          "name": "stdout",
          "text": [
            "Model: \"sequential_3\"\n",
            "_________________________________________________________________\n",
            " Layer (type)                Output Shape              Param #   \n",
            "=================================================================\n",
            " sequential (Sequential)     (32, 256, 256, 3)         0         \n",
            "                                                                 \n",
            " conv2d_12 (Conv2D)          (32, 254, 254, 32)        896       \n",
            "                                                                 \n",
            " max_pooling2d_12 (MaxPoolin  (32, 127, 127, 32)       0         \n",
            " g2D)                                                            \n",
            "                                                                 \n",
            " conv2d_13 (Conv2D)          (32, 125, 125, 64)        18496     \n",
            "                                                                 \n",
            " max_pooling2d_13 (MaxPoolin  (32, 62, 62, 64)         0         \n",
            " g2D)                                                            \n",
            "                                                                 \n",
            " conv2d_14 (Conv2D)          (32, 60, 60, 64)          36928     \n",
            "                                                                 \n",
            " max_pooling2d_14 (MaxPoolin  (32, 30, 30, 64)         0         \n",
            " g2D)                                                            \n",
            "                                                                 \n",
            " conv2d_15 (Conv2D)          (32, 28, 28, 64)          36928     \n",
            "                                                                 \n",
            " max_pooling2d_15 (MaxPoolin  (32, 14, 14, 64)         0         \n",
            " g2D)                                                            \n",
            "                                                                 \n",
            " conv2d_16 (Conv2D)          (32, 12, 12, 64)          36928     \n",
            "                                                                 \n",
            " max_pooling2d_16 (MaxPoolin  (32, 6, 6, 64)           0         \n",
            " g2D)                                                            \n",
            "                                                                 \n",
            " conv2d_17 (Conv2D)          (32, 4, 4, 64)            36928     \n",
            "                                                                 \n",
            " max_pooling2d_17 (MaxPoolin  (32, 2, 2, 64)           0         \n",
            " g2D)                                                            \n",
            "                                                                 \n",
            " flatten_2 (Flatten)         (32, 256)                 0         \n",
            "                                                                 \n",
            " dense_2 (Dense)             (32, 64)                  16448     \n",
            "                                                                 \n",
            "=================================================================\n",
            "Total params: 183,552\n",
            "Trainable params: 183,552\n",
            "Non-trainable params: 0\n",
            "_________________________________________________________________\n"
          ]
        }
      ]
    },
    {
      "cell_type": "code",
      "source": [
        "from tensorflow.keras import models\n",
        "from tensorflow.keras.utils import plot_model\n",
        "plot_model(model) "
      ],
      "metadata": {
        "colab": {
          "base_uri": "https://localhost:8080/",
          "height": 1000
        },
        "id": "N9FsaS57I6hd",
        "outputId": "ec93e849-8346-411c-ff0d-fb0e2bd7b99b"
      },
      "execution_count": null,
      "outputs": [
        {
          "output_type": "execute_result",
          "data": {
            "image/png": "[encoded data removed]",
            "text/plain": [
              "<IPython.core.display.Image object>"
            ]
          },
          "metadata": {},
          "execution_count": 44
        }
      ]
    },
    {
      "cell_type": "code",
      "source": [
        "model.compile( \n",
        "    optimizer='adam', \n",
        "    loss=tf.keras.losses.SparseCategoricalCrossentropy(from_logits=False),\n",
        "    metrics=['accuracy']\n",
        ")"
      ],
      "metadata": {
        "id": "5lwUWuukwwrY"
      },
      "execution_count": null,
      "outputs": []
    },
    {
      "cell_type": "code",
      "source": [
        "training = model.fit(  \n",
        "    train_ds, \n",
        "    batch_size=32,\n",
        "    validation_data=val_ds,\n",
        "    verbose=1,\n",
        "    epochs=1, \n",
        ")"
      ],
      "metadata": {
        "colab": {
          "base_uri": "https://localhost:8080/"
        },
        "id": "9Ma1V_3EOHWV",
        "outputId": "1c86e047-c5b2-4bb8-e850-15fafc1be138"
      },
      "execution_count": null,
      "outputs": [
        {
          "output_type": "stream",
          "name": "stdout",
          "text": [
            "16/16 [==============================] - 233s 7s/step - loss: 1.3260 - accuracy: 0.4375 - val_loss: 0.6907 - val_accuracy: 0.4948\n"
          ]
        }
      ]
    },
    {
      "cell_type": "code",
      "source": [
        "accuracy=model.evaluate(test_ds) \n",
        "accuracy # with 1 epochs"
      ],
      "metadata": {
        "colab": {
          "base_uri": "https://localhost:8080/"
        },
        "id": "pKbrgZXjQpK7",
        "outputId": "601832b2-27af-4a47-c25b-cb8337615000"
      },
      "execution_count": null,
      "outputs": [
        {
          "output_type": "stream",
          "name": "stdout",
          "text": [
            "10/10 [==============================] - 33s 1s/step - loss: 0.6920 - accuracy: 0.5000\n"
          ]
        },
        {
          "output_type": "execute_result",
          "data": {
            "text/plain": [
              "[0.6920028328895569, 0.5]"
            ]
          },
          "metadata": {},
          "execution_count": 19
        }
      ]
    },
    {
      "cell_type": "code",
      "source": [
        "accuracy=model.evaluate(test_ds) \n",
        "accuracy  # with 5 epochs"
      ],
      "metadata": {
        "colab": {
          "base_uri": "https://localhost:8080/"
        },
        "id": "OnClDI9Mwwhi",
        "outputId": "5b4ad29a-416a-4b3b-a5cc-6b36c5d7df70"
      },
      "execution_count": null,
      "outputs": [
        {
          "output_type": "stream",
          "name": "stdout",
          "text": [
            "10/10 [==============================] - 26s 748ms/step - loss: 0.6604 - accuracy: 0.5068\n"
          ]
        },
        {
          "output_type": "execute_result",
          "data": {
            "text/plain": [
              "[0.6604228615760803, 0.5067567825317383]"
            ]
          },
          "metadata": {},
          "execution_count": 31
        }
      ]
    },
    {
      "cell_type": "code",
      "source": [
        "import numpy as np\n",
        "from os import path\n",
        "for images_batch, labels_batch in test_ds.take(1):\n",
        "    \n",
        "  f_image = images_batch[0].numpy().astype('uint8')\n",
        "  f_label = labels_batch[0].numpy()\n",
        "\n",
        "  print(\"first image to predict\")\n",
        "  plt.imshow(f_image)\n",
        "  \n",
        "  print(\"actual label:\",cn[f_label])\n",
        "\n",
        "  batch_predict = model.predict(images_batch)\n",
        "   #print(\"predicted label:\",cn[np.argmax(batch_predict[1])],\"Hello world\")\n",
        "  if cn[np.argmax(batch_predict[1])] == 'no tree-0':\n",
        "     print(\"predicted label:\",0)\n",
        "  else: \n",
        "    print(1)\n"
      ],
      "metadata": {
        "colab": {
          "base_uri": "https://localhost:8080/",
          "height": 321
        },
        "id": "BprXq46nw7z7",
        "outputId": "71f2ee70-2c49-4105-9495-9754e6cc73bc"
      },
      "execution_count": null,
      "outputs": [
        {
          "output_type": "stream",
          "name": "stdout",
          "text": [
            "first image to predict\n",
            "actual label: no tree-0\n",
            "predicted label: 0\n"
          ]
        },
        {
          "output_type": "display_data",
          "data": {
            "text/plain": [
              "<Figure size 432x288 with 1 Axes>"
            ],
            "image/png": "[encoded data removed]"
          },
          "metadata": {
            "needs_background": "light"
          }
        }
      ]
    },
    {
      "cell_type": "code",
      "source": [
        "for images_batch, labels_batch in test_ds.take(1):\n",
        "    \n",
        "    f_image = images_batch[0].numpy().astype('uint8')\n",
        "    f_label = labels_batch[0].numpy()\n",
        "    \n",
        "    print(\"first image to predict\")\n",
        "    plt.imshow(f_image)\n",
        "    print(\"actual label:\",cn[f_label])\n",
        "    \n",
        "    batch_predict = model.predict(images_batch)   \n",
        "    #print(\"predicted label:\",cn[np.argmax(batch_predict[1])],\"Hello world\")\n",
        "    if cn[np.argmax(batch_predict[1])] == 'no tree-0':\n",
        "      print(\"predicted label:\",0)\n",
        "    else: \n",
        "      print(1)\n",
        "\n"
      ],
      "metadata": {
        "colab": {
          "base_uri": "https://localhost:8080/",
          "height": 321
        },
        "id": "qveUdqTEjzq-",
        "outputId": "618885f0-c3f0-409c-d486-0707bc4c207e"
      },
      "execution_count": null,
      "outputs": [
        {
          "output_type": "stream",
          "name": "stdout",
          "text": [
            "first image to predict\n",
            "actual label: no tree-0\n",
            "predicted label: 0\n"
          ]
        },
        {
          "output_type": "display_data",
          "data": {
            "text/plain": [
              "<Figure size 432x288 with 1 Axes>"
            ],
            "image/png": "[encoded data removed]"
          },
          "metadata": {
            "needs_background": "light"
          }
        }
      ]
    },
    {
      "cell_type": "code",
      "source": [
        "for images_batch, labels_batch in test_ds.take(1):\n",
        "    \n",
        "    f_image = images_batch[0].numpy().astype('uint8')\n",
        "    f_label = labels_batch[0].numpy()\n",
        "    \n",
        "    print(\"Image to predict is below: \")\n",
        "    plt.imshow(f_image)\n",
        "    \n",
        "    batch_predict = model.predict(images_batch)\n",
        "    #print(\"predicted label:\",cn[np.argmax(batch_predict[1])],\"Hello world\")\n",
        "    if cn[np.argmax(batch_predict[1])] == 'no tree-0':\n",
        "      print(\"predicted label:\",0)\n",
        "    else: \n",
        "      print(1)\n"
      ],
      "metadata": {
        "colab": {
          "base_uri": "https://localhost:8080/",
          "height": 304
        },
        "id": "EpX2-KPuQMPW",
        "outputId": "1b749aad-6cd4-4364-e028-669ce5a02ca6"
      },
      "execution_count": null,
      "outputs": [
        {
          "output_type": "stream",
          "name": "stdout",
          "text": [
            "Image to predict is below: \n",
            "predicted label: 0\n"
          ]
        },
        {
          "output_type": "display_data",
          "data": {
            "text/plain": [
              "<Figure size 432x288 with 1 Axes>"
            ],
            "image/png": "[encoded data removed]"
          },
          "metadata": {
            "needs_background": "light"
          }
        }
      ]
    },
    {
      "cell_type": "code",
      "source": [
        "def predict(img):\n",
        "    img_array = tf.keras.preprocessing.image.img_to_array(images[i].numpy())\n",
        "    img_array = tf.expand_dims(img_array, 0)\n",
        "\n",
        "    predictions = model.predict(img_array)\n",
        "\n",
        "    predicted_class = cn[np.argmax(predictions[0])]\n",
        "    confidence = round(100 * (np.max(predictions[0])), 2)\n",
        "    return predicted_class, confidence"
      ],
      "metadata": {
        "id": "f8QCijigw7v8"
      },
      "execution_count": null,
      "outputs": []
    },
    {
      "cell_type": "code",
      "source": [
        "for images_batch, labels_batch in test_ds.take(1):\n",
        "    \n",
        "    f_image = images_batch[0].numpy().astype('uint8')\n",
        "    f_label = labels_batch[0].numpy()\n",
        "    \n",
        "    print(\"Image to predict is below: \")\n",
        "    plt.imshow(f_image)\n",
        "    \n",
        "    batch_predict = model.predict(images_batch)\n",
        "    print(\"predicted label:\",cn[np.argmax(batch_predict[1])])"
      ],
      "metadata": {
        "id": "A6oYDjcLRbKN"
      },
      "execution_count": null,
      "outputs": []
    },
    {
      "cell_type": "code",
      "source": [
        "plt.figure(figsize=(15, 15))\n",
        "for images, labels in test_ds.take(1):\n",
        "    for i in range(4):\n",
        "        ax = plt.subplot(1, 4, i + 1)\n",
        "        plt.imshow(images[i].numpy().astype(\"uint8\"))\n",
        "        \n",
        "        predicted_class, confidence = predict(images[i].numpy())\n",
        "        actual_class = cn[labels[i]] \n",
        "        \n",
        "        plt.title(f\"Actual: {actual_class},\\n Predicted: {predicted_class}\")\n",
        "        \n",
        "        plt.axis(\"off\")"
      ],
      "metadata": {
        "colab": {
          "base_uri": "https://localhost:8080/",
          "height": 244
        },
        "id": "keOht9Z6w7qg",
        "outputId": "e580758b-a96f-4653-f40f-83f38b7f6dd9"
      },
      "execution_count": null,
      "outputs": [
        {
          "output_type": "display_data",
          "data": {
            "text/plain": [
              "<Figure size 1080x1080 with 4 Axes>"
            ],
            "image/png": "[encoded data removed]"
          },
          "metadata": {
            "needs_background": "light"
          }
        }
      ]
    },
    {
      "cell_type": "markdown",
      "source": [
        "##DONE"
      ],
      "metadata": {
        "id": "rX8Hs8krzAiw"
      }
    }
  ]
}